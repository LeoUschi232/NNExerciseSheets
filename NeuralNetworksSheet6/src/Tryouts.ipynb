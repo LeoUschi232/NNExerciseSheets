{
 "cells": [
  {
   "cell_type": "code",
   "execution_count": 1,
   "metadata": {
    "collapsed": true
   },
   "outputs": [
    {
     "name": "stdout",
     "output_type": "stream",
     "text": [
      "List 1 initially: [0, 1, 2, 3, 4, 5, 6, 7, 8, 9, 10]\n",
      "List 1 afterwards: [10, 9, 8, 7, 6, 5, 4, 3, 2, 1, 0]\n",
      "List 2 afterwards: None\n"
     ]
    }
   ],
   "source": [
    "list1 = [0, 1, 2, 3, 4, 5, 6, 7, 8, 9, 10]\n",
    "print(f\"List 1 initially: {list1}\")\n",
    "list2 = list1.reverse()\n",
    "print(f\"List 1 afterwards: {list1}\")\n",
    "print(f\"List 2 afterwards: {list2}\")\n",
    "# Only programmed this to see if the reverse-function reverses the original list or returns"
   ]
  }
 ],
 "metadata": {
  "kernelspec": {
   "display_name": "Python 3",
   "language": "python",
   "name": "python3"
  },
  "language_info": {
   "codemirror_mode": {
    "name": "ipython",
    "version": 2
   },
   "file_extension": ".py",
   "mimetype": "text/x-python",
   "name": "python",
   "nbconvert_exporter": "python",
   "pygments_lexer": "ipython2",
   "version": "2.7.6"
  }
 },
 "nbformat": 4,
 "nbformat_minor": 0
}
